{
 "cells": [
  {
   "cell_type": "code",
   "execution_count": 6,
   "metadata": {},
   "outputs": [
    {
     "name": "stdout",
     "output_type": "stream",
     "text": [
      "[0.0, 1.0, 1.0, 1.0, 1.0]\n",
      "The total value is: 15.0\n",
      "The weight of our items is: 8.0\n"
     ]
    }
   ],
   "source": [
    "using JuMP, Cbc\n",
    "\n",
    "weight = [12, 2, 4, 1, 1]\n",
    "value = [4, 2, 10, 2, 1]\n",
    "\n",
    "m = Model(solver=CbcSolver())\n",
    "@variable(m, z[1:5], Bin)\n",
    "\n",
    "#knapsack can only hold 15kg\n",
    "@constraint(m, sum(z .* weight) <= 15)\n",
    "#our goal is to maximize the value\n",
    "@objective(m, Max, sum(z .* value))\n",
    "\n",
    "status = solve(m)\n",
    "println(getvalue(z))\n",
    "println(\"The total value is: \", getobjectivevalue(m))\n",
    "println(\"The weight of our items is: \", getvalue(sum(z .* weight)))"
   ]
  },
  {
   "cell_type": "code",
   "execution_count": 11,
   "metadata": {},
   "outputs": [
    {
     "name": "stdout",
     "output_type": "stream",
     "text": [
      "[0.0, 0.0, 25.0]\n"
     ]
    }
   ],
   "source": [
    "using JuMP, Cbc\n",
    "\n",
    "labor_cost = [3,2,6]\n",
    "cloth_cost = [4,3,4]\n",
    "profit = [6,4,7]\n",
    "machine_rental = [200, 150, 100]\n",
    "\n",
    "m = Model(solver=CbcSolver())\n",
    "\n",
    "#integer decision variable x\n",
    "@variable(m, x[1:3] >= 0, Int)\n",
    "#binary decision variable z\n",
    "#@variable(m, z[1:3], Bin)\n",
    "@variable(m, 0 <= z[1:3] <= 1) #LP relaxation\n",
    "\n",
    "#labor constraint\n",
    "@constraint(m, sum(x .* labor_cost) <= 150)\n",
    "#cloth constraint\n",
    "@constraint(m, sum(x .* cloth_cost) <= 160)\n",
    "#if xi > 0 , then z = 1(with the upper bound M equal 50)\n",
    "@constraint(m, x .<= 50z)\n",
    "\n",
    "@objective(m, Max, sum(x .* profit) - sum(z .* machine_rental))\n",
    "\n",
    "status = solve(m)\n",
    "println(getvalue(x))"
   ]
  },
  {
   "cell_type": "code",
   "execution_count": null,
   "metadata": {},
   "outputs": [],
   "source": []
  }
 ],
 "metadata": {
  "kernelspec": {
   "display_name": "Julia 0.6.2",
   "language": "julia",
   "name": "julia-0.6"
  },
  "language_info": {
   "file_extension": ".jl",
   "mimetype": "application/julia",
   "name": "julia",
   "version": "0.6.2"
  }
 },
 "nbformat": 4,
 "nbformat_minor": 2
}
