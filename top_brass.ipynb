{
 "cells": [
  {
   "cell_type": "code",
   "execution_count": 14,
   "metadata": {},
   "outputs": [
    {
     "name": "stdout",
     "output_type": "stream",
     "text": [
      "We need to produce: 650.0 football trophies\n",
      "We need to produce: 1100.0 soccer trophies\n",
      "We will have a total profit of: 17700.0$\n"
     ]
    }
   ],
   "source": [
    "using JuMP, Clp\n",
    "\n",
    "m = Model(solver=ClpSolver())\n",
    "@variable(m, f >= 0)\n",
    "@variable(m, s >= 0)\n",
    "@constraint(m, 4f + 2s <= 4800)\n",
    "@constraint(m, f + s <= 1750)\n",
    "@constraint(m, f <= 1000)\n",
    "@constraint(m, s <= 1500)\n",
    "@objective(m, Max, 12f + 9s)\n",
    "\n",
    "status = solve(m)\n",
    "println(\"We need to produce: \", getvalue(f), \" football trophies\")\n",
    "println(\"We need to produce: \", getvalue(s), \" soccer trophies\")\n",
    "println(\"We will have a total profit of: \", getobjectivevalue(m), \"\\$\")"
   ]
  },
  {
   "cell_type": "code",
   "execution_count": null,
   "metadata": {},
   "outputs": [],
   "source": []
  }
 ],
 "metadata": {
  "kernelspec": {
   "display_name": "Julia 0.6.2",
   "language": "julia",
   "name": "julia-0.6"
  },
  "language_info": {
   "file_extension": ".jl",
   "mimetype": "application/julia",
   "name": "julia",
   "version": "0.6.2"
  }
 },
 "nbformat": 4,
 "nbformat_minor": 2
}
