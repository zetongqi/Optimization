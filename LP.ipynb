{
 "cells": [
  {
   "cell_type": "markdown",
   "metadata": {},
   "source": [
    "This is the code in Julia for problems in the first chapter of Model Building in Mathematical Programming"
   ]
  },
  {
   "cell_type": "markdown",
   "metadata": {},
   "source": [
    "1.1 Product Mix"
   ]
  },
  {
   "cell_type": "code",
   "execution_count": 19,
   "metadata": {},
   "outputs": [
    {
     "name": "stdout",
     "output_type": "stream",
     "text": [
      "[12.0, 7.2, 0.0, 0.0, 0.0]\n"
     ]
    }
   ],
   "source": [
    "using JuMP, Clp\n",
    "\n",
    "product_profit = [550, 600, 350, 400, 200]\n",
    "grind_time = [12, 20, 0, 25, 15]\n",
    "drill_time = [10, 8, 16, 0, 0]\n",
    "\n",
    "m = Model(solver=ClpSolver())\n",
    "@variable(m, x[1:5] >= 0)\n",
    "@constraint(m, sum(grind_time .* x) <= 3*6*16)\n",
    "@constraint(m, sum(drill_time .* x) <= 2*6*16)\n",
    "@constraint(m, sum(20 .* x) <= 8*6*8)\n",
    "@objective(m, Max, sum(product_profit .* x))\n",
    "\n",
    "status = solve(m)\n",
    "println(getvalue(x))"
   ]
  },
  {
   "cell_type": "markdown",
   "metadata": {},
   "source": [
    "1.2 Blending"
   ]
  },
  {
   "cell_type": "code",
   "execution_count": 20,
   "metadata": {},
   "outputs": [
    {
     "name": "stdout",
     "output_type": "stream",
     "text": [
      "[159.259, 40.7407, 0.0, 250.0, 0.0]\n",
      "450.0\n",
      "17592.59259259259\n"
     ]
    }
   ],
   "source": [
    "using JuMP, Clp\n",
    "\n",
    "oil_cost = [110, 120, 130, 110, 115]\n",
    "oil_hardness = [8.8, 6.1, 2, 4.2, 5]\n",
    "\n",
    "m = Model(solver=ClpSolver())\n",
    "#amount of raw oil to buy\n",
    "@variable(m, o[1:5] >= 0)\n",
    "#amount of oil produced\n",
    "@variable(m, y >= 0)\n",
    "@constraint(m, o[1] + o[2] <= 200)\n",
    "@constraint(m, o[3] + o[4] + o[5] <= 250)\n",
    "@constraint(m, sum(oil_hardness .* o) <= 6y)\n",
    "@constraint(m, sum(oil_hardness .* o) >= 3y)\n",
    "@constraint(m, sum(o) == y)\n",
    "@objective(m, Max, 150y - sum(oil_cost .* o))\n",
    "\n",
    "status = solve(m)\n",
    "println(getvalue(o))\n",
    "println(getvalue(y))\n",
    "println(getobjectivevalue(m))"
   ]
  }
 ],
 "metadata": {
  "kernelspec": {
   "display_name": "Julia 0.6.2",
   "language": "julia",
   "name": "julia-0.6"
  },
  "language_info": {
   "file_extension": ".jl",
   "mimetype": "application/julia",
   "name": "julia",
   "version": "0.6.2"
  }
 },
 "nbformat": 4,
 "nbformat_minor": 2
}
