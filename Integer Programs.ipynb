{
 "cells": [
  {
   "cell_type": "markdown",
   "metadata": {},
   "source": [
    "1.Thrift store"
   ]
  },
  {
   "cell_type": "code",
   "execution_count": 65,
   "metadata": {},
   "outputs": [
    {
     "name": "stdout",
     "output_type": "stream",
     "text": [
      "Penny: 4.0\n",
      "Nickel: 0.0\n",
      "Dime: 7.000000000000001\n",
      "Quarter1.0\n",
      "Total weight:31.546\n"
     ]
    }
   ],
   "source": [
    "using JuMP, Cbc\n",
    "\n",
    "m = Model(solver=CbcSolver())\n",
    "\n",
    "#penny\n",
    "@variable(m, p >= 0, Int)\n",
    "#nickel\n",
    "@variable(m, n >= 0, Int)\n",
    "#dime\n",
    "@variable(m, d >= 0, Int)\n",
    "#quarter\n",
    "@variable(m, q >= 0, Int)\n",
    "\n",
    "@constraint(m, p + 5n + 10d + 25q == 99)\n",
    "@objective(m, Min, 2.5p + 5n + 2.268d + 5.670q)\n",
    "\n",
    "status = solve(m)\n",
    "println(\"Penny: \", getvalue(p))\n",
    "println(\"Nickel: \", getvalue(n))\n",
    "println(\"Dime: \", getvalue(d))\n",
    "println(\"Quarter\", getvalue(q))\n",
    "println(\"Total weight:\", getobjectivevalue(m))"
   ]
  },
  {
   "cell_type": "markdown",
   "metadata": {},
   "source": [
    "According to the Cbc solver, we should have 4 pennies, 7 dimes and 1 quarter. And the total weight is 31.546 grams.\n",
    "\n",
    "\n"
   ]
  },
  {
   "cell_type": "markdown",
   "metadata": {},
   "source": [
    "2.Checked luggage "
   ]
  },
  {
   "cell_type": "code",
   "execution_count": 66,
   "metadata": {},
   "outputs": [
    {
     "name": "stdout",
     "output_type": "stream",
     "text": [
      "Academic license - for non-commercial use only\n",
      "[1.0, -0.0, -0.0, 1.0, 1.0, 1.0, -0.0, 1.0, 0.0, 1.0]\n",
      "Number of souvenirs to bring: 6.0\n"
     ]
    }
   ],
   "source": [
    "using JuMP, Gurobi\n",
    "\n",
    "weights = [5,6,7,6,4,6,7,3,8,5]\n",
    "volume = [2,4,5,3,3,2,3,1,2,4]\n",
    "\n",
    "m = Model(solver=GurobiSolver(OutputFlag=0))\n",
    "\n",
    "#souvenirs: 1 taken, 0 not taken\n",
    "@variable(m, s[1:10], Bin)\n",
    "#weight constraint\n",
    "@constraint(m, sum(s.*weights) <= 30)\n",
    "#volume constraint\n",
    "@constraint(m, sum(s.*volume) <= 15)\n",
    "@objective(m, Max, sum(s))\n",
    "\n",
    "status = solve(m)\n",
    "println(getvalue(s))\n",
    "println(\"Number of souvenirs to bring: \", sum(getvalue(s)))"
   ]
  },
  {
   "cell_type": "markdown",
   "metadata": {},
   "source": [
    "According to the Gurobi solver, we should take Souvenir 1, 4, 5, 6, 8 and 10.\n",
    "\n",
    "\n"
   ]
  },
  {
   "cell_type": "markdown",
   "metadata": {},
   "source": [
    "3.Combat computers"
   ]
  },
  {
   "cell_type": "code",
   "execution_count": 67,
   "metadata": {},
   "outputs": [
    {
     "name": "stdout",
     "output_type": "stream",
     "text": [
      "Academic license - for non-commercial use only\n",
      "[10000.0, 8000.0, -0.0, 2000.0]\n"
     ]
    }
   ],
   "source": [
    "using JuMP, Gurobi\n",
    "\n",
    "m = Model(solver=GurobiSolver(OutputFlag=0))\n",
    "#binary variable indicating whather we are using a production plant\n",
    "@variable(m, z[1:4], Bin)\n",
    "#how many computers are produced by each production plant\n",
    "@variable(m, x[1:4] >= 0, Int)\n",
    "@constraint(m, sum(x) <= 20000)\n",
    "@constraint(m, x[1] <= 10000)\n",
    "@constraint(m, x[2] <= 8000)\n",
    "@constraint(m, x[3] <= 9000)\n",
    "@constraint(m, x[4] <= 6000)\n",
    "@constraint(m, x[1] <= 10000*z[1])\n",
    "@constraint(m, x[2] <= 8000*z[2])\n",
    "@constraint(m, x[3] <= 9000*z[3])\n",
    "@constraint(m, x[4] <= 6000*z[4])\n",
    "@objective(m, Max, sum(x)*3500 - (x[1]*1000+x[2]*1700+x[3]*2300+x[4]*2900) - \n",
    "    (z[1]*9000000+z[2]*5000000+z[3]*3000000+z[4]*1000000))\n",
    "status = solve(m)\n",
    "\n",
    "println(getvalue(x))"
   ]
  },
  {
   "cell_type": "markdown",
   "metadata": {},
   "source": [
    "According to the solver, we should use plant 1 to produce 10000 computers, plant 2 to produce 8000 computers, we don't use plant 3, and use plant 4 to produce 2000 computers.\n",
    "\n",
    "\n"
   ]
  },
  {
   "cell_type": "markdown",
   "metadata": {},
   "source": [
    "4.ABC Investments"
   ]
  },
  {
   "cell_type": "code",
   "execution_count": 68,
   "metadata": {},
   "outputs": [
    {
     "name": "stdout",
     "output_type": "stream",
     "text": [
      "[0.0, 0.0, 35.0, 5.0, 22.5, 17.5]\n",
      "Total profit: 13.500000000000004\n"
     ]
    }
   ],
   "source": [
    "using JuMP, Cbc\n",
    "\n",
    "expected_return = [0.13 0.09 0.17 0.1 0.22 0.12]\n",
    "minInvest = [3 2 9 5 12 4]\n",
    "maxInvest = [27 12 35 15 46 18]\n",
    "\n",
    "m = Model(solver=CbcSolver())\n",
    "@variable(m, z[1:6], Bin)\n",
    "@variable(m, x[1:6] >= 0)\n",
    "@constraint(m, minConstr[i in 1:6], x[i] >= minInvest[i].*z[i])\n",
    "@constraint(m, maxConstr[i in 1:6], x[i] <= maxInvest[i].*z[i])\n",
    "@constraint(m, x[5] <= x[2]+x[4]+x[6])\n",
    "@constraint(m, x[6] >= z[3]*minInvest[6])\n",
    "@constraint(m, x[6] <= z[3]*maxInvest[6])\n",
    "@constraint(m, sum(x[1:6]) <= 80)\n",
    "\n",
    "@objective(m, Max, sum(x[i] * expected_return[i] for i in 1:6))\n",
    "\n",
    "status = solve(m)\n",
    "println(getvalue(x))\n",
    "println(\"Total profit: \", getobjectivevalue(m))"
   ]
  },
  {
   "cell_type": "markdown",
   "metadata": {},
   "source": [
    "Therefore, we shouldn't invest anything on option 1 and option 2, we should invest 35 million on option 3, 5 million on option 4, 22.5 million on option 5 and 17.5 million to option 6. This will give us a total profit of 13.500000000000004 million."
   ]
  }
 ],
 "metadata": {
  "kernelspec": {
   "display_name": "Julia 0.6.2",
   "language": "julia",
   "name": "julia-0.6"
  },
  "language_info": {
   "file_extension": ".jl",
   "mimetype": "application/julia",
   "name": "julia",
   "version": "0.6.2"
  }
 },
 "nbformat": 4,
 "nbformat_minor": 2
}
