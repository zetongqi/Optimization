{
 "cells": [
  {
   "cell_type": "markdown",
   "metadata": {},
   "source": [
    "1.Voting"
   ]
  },
  {
   "cell_type": "code",
   "execution_count": 229,
   "metadata": {},
   "outputs": [
    {
     "name": "stdout",
     "output_type": "stream",
     "text": [
      "Academic license - for non-commercial use only\n",
      "[1.0, 1.0, 1.0, 0.0, 0.0]\n",
      "3.0\n"
     ]
    },
    {
     "data": {
      "text/plain": [
       "10×5 Array{Float64,2}:\n",
       " 0.0  0.0  0.0  0.0  1.0\n",
       " 0.0  0.0  0.0  1.0  0.0\n",
       " 1.0  0.0  0.0  0.0  0.0\n",
       " 1.0  0.0  0.0  0.0  0.0\n",
       " 0.0  1.0  0.0  0.0  0.0\n",
       " 0.0  0.0  1.0  0.0  0.0\n",
       " 0.0  0.0  0.0  1.0  0.0\n",
       " 1.0  0.0  0.0  0.0  0.0\n",
       " 0.0  0.0  1.0  0.0  0.0\n",
       " 0.0  0.0  0.0  0.0  1.0"
      ]
     },
     "execution_count": 229,
     "metadata": {},
     "output_type": "execute_result"
    }
   ],
   "source": [
    "using JuMP, Gurobi\n",
    "\n",
    "#voters information, first row Republicans, second row Democrats\n",
    "voters = [80 60 40 20 40 40 70 50 70 70;\n",
    "          34 44 44 24 114 64 14 44 54 64]\n",
    "\n",
    "m = Model(solver=GurobiSolver(OutputFlag=0))\n",
    "\n",
    "#binary variables on which congressional representative is going to be on\n",
    "@variable(m, z[1:10, 1:5], Bin)\n",
    "#binary variables on which \n",
    "@variable(m, majority[1:5], Bin)\n",
    "\n",
    "#each city can only be in one congress\n",
    "for i in 1:10\n",
    "    @constraint(m, sum(z[i,j] for j in 1:5) == 1)\n",
    "end\n",
    "\n",
    "for j in 1:5\n",
    "    @constraint(m, sum(voters[1, :] .* z[:, j]) + \n",
    "        sum(voters[2, :] .* z[:, j]) <= 250)\n",
    "    @constraint(m, sum(voters[1, :] .* z[:, j]) + \n",
    "        sum(voters[2, :] .* z[:, j]) >= 150)\n",
    "end\n",
    "\n",
    "for j in 1:5\n",
    "    @constraint(m, sum(voters[1, :] .* z[:, j]) - \n",
    "        sum(voters[2, :] .* z[:, j]) <= 100(1-majority[j]))\n",
    "end\n",
    "\n",
    "@objective(m, Max, sum(majority))\n",
    "\n",
    "status = solve(m)\n",
    "println(getvalue(majority))\n",
    "println(getobjectivevalue(m))\n",
    "zz = getvalue(z)"
   ]
  },
  {
   "cell_type": "markdown",
   "metadata": {},
   "source": [
    "Therefore, according to the solver:\n",
    "\n",
    "district 1 includes: city 3, 4 and 8\n",
    "\n",
    "district 2 includes: city 5\n",
    "\n",
    "district 3 includes: city 6 and 9\n",
    "\n",
    "district 4 includes: city 2 and 7\n",
    "\n",
    "district 5 includes: city 1 and 10.\n",
    "\n",
    "The governor has 3 Democratic majority districts."
   ]
  },
  {
   "cell_type": "markdown",
   "metadata": {},
   "source": [
    "2.The Queens problem\n",
    "\n",
    "a.Queens not threaten each other"
   ]
  },
  {
   "cell_type": "code",
   "execution_count": 230,
   "metadata": {},
   "outputs": [
    {
     "name": "stdout",
     "output_type": "stream",
     "text": [
      "Academic license - for non-commercial use only\n"
     ]
    },
    {
     "data": {
      "text/plain": [
       "8×8 Array{Float64,2}:\n",
       " 0.0  0.0  0.0  0.0  0.0  1.0  0.0  0.0\n",
       " 0.0  0.0  1.0  0.0  0.0  0.0  0.0  0.0\n",
       " 0.0  0.0  0.0  0.0  0.0  0.0  1.0  0.0\n",
       " 0.0  1.0  0.0  0.0  0.0  0.0  0.0  0.0\n",
       " 0.0  0.0  0.0  1.0  0.0  0.0  0.0  0.0\n",
       " 0.0  0.0  0.0  0.0  0.0  0.0  0.0  1.0\n",
       " 1.0  0.0  0.0  0.0  0.0  0.0  0.0  0.0\n",
       " 0.0  0.0  0.0  0.0  1.0  0.0  0.0  0.0"
      ]
     },
     "execution_count": 230,
     "metadata": {},
     "output_type": "execute_result"
    }
   ],
   "source": [
    "using JuMP, Gurobi\n",
    "\n",
    "m = Model(solver=GurobiSolver(OutputFlag=0))\n",
    "\n",
    "#for each queen, indicate their position on the board\n",
    "#1:row num, #2:column num\n",
    "@variable(m, z[1:8, 1:8], Bin)\n",
    "\n",
    "#each row has less or equal one queen\n",
    "for i in 1:8\n",
    "    @constraint(m, sum(z[i, j] for j in 1:8) <= 1)\n",
    "end\n",
    "\n",
    "#each column has less than or equal one queen\n",
    "for j in 1:8\n",
    "    @constraint(m, sum(z[i, j] for i in 1:8) <= 1)\n",
    "end\n",
    "\n",
    "#above and including the main diagonal\n",
    "for k in 0:6\n",
    "    @constraint(m, sum(z[i, i+k] for i in 1:8-k) <= 1)\n",
    "end\n",
    "\n",
    "#below the main diagonal\n",
    "for k in 1:6\n",
    "    @constraint(m, sum(z[i+k, i] for i in 1:8-k) <= 1)\n",
    "end\n",
    "\n",
    "#above and including the anti diagonal\n",
    "for k in 0:6\n",
    "    @constraint(m, sum(z[i, 8-k-i+1] for i in 1:8-k) <= 1)\n",
    "end\n",
    "\n",
    "#below the anti diagonal\n",
    "for k in 1:6\n",
    "    @constraint(m, sum(z[i, 9+k-i] for i in 1+k:8) <= 1)\n",
    "end\n",
    "\n",
    "#has to be exactly 8 queens\n",
    "@constraint(m, sum(z[i, j] for i in 1:8 for j in 1:8) == 8)\n",
    "\n",
    "status = solve(m)\n",
    "zza = (getvalue(z))"
   ]
  },
  {
   "cell_type": "code",
   "execution_count": 231,
   "metadata": {},
   "outputs": [
    {
     "name": "stdout",
     "output_type": "stream",
     "text": [
      "\n",
      "| | | | | \u001b[30m|\u001b[39m\u001b[31mQ\u001b[39m| | \u001b[30m|\n",
      "\u001b[39m\n",
      "| | \u001b[30m|\u001b[39m\u001b[31mQ\u001b[39m| | | | | \u001b[30m|\n",
      "\u001b[39m\n",
      "| | | | | | \u001b[30m|\u001b[39m\u001b[31mQ\u001b[39m| \u001b[30m|\n",
      "\u001b[39m\n",
      "| \u001b[30m|\u001b[39m\u001b[31mQ\u001b[39m| | | | | | \u001b[30m|\n",
      "\u001b[39m\n",
      "| | | \u001b[30m|\u001b[39m\u001b[31mQ\u001b[39m| | | | \u001b[30m|\n",
      "\u001b[39m\n",
      "| | | | | | | \u001b[30m|\u001b[39m\u001b[31mQ\u001b[39m\u001b[30m|\n",
      "\u001b[39m\n",
      "\u001b[30m|\u001b[39m\u001b[31mQ\u001b[39m| | | | | | | \u001b[30m|\n",
      "\u001b[39m\n",
      "| | | | \u001b[30m|\u001b[39m\u001b[31mQ\u001b[39m| | | \u001b[30m|\n",
      "\u001b[39m\n"
     ]
    }
   ],
   "source": [
    "function print_board(zza)\n",
    "println()\n",
    "for i = 1:8\n",
    "    for j = 1:8\n",
    "        if zza[i, j] >0\n",
    "            print_with_color(:black, \"|\")\n",
    "            print_with_color(:red, \"Q\")\n",
    "        else\n",
    "            print(\"|\", \" \")\n",
    "        end\n",
    "    end\n",
    " print_with_color(:black, \"|\\n\")\n",
    " println()\n",
    "end\n",
    "end\n",
    "\n",
    "print_board(zza)"
   ]
  },
  {
   "cell_type": "markdown",
   "metadata": {},
   "source": [
    "b.Queens not threaten each other with point symmetry"
   ]
  },
  {
   "cell_type": "code",
   "execution_count": 232,
   "metadata": {},
   "outputs": [
    {
     "name": "stdout",
     "output_type": "stream",
     "text": [
      "Academic license - for non-commercial use only\n"
     ]
    },
    {
     "data": {
      "text/plain": [
       "8×8 Array{Float64,2}:\n",
       "  0.0  -0.0  -0.0  -0.0  -0.0   1.0  -0.0   0.0\n",
       " -0.0   0.0  -0.0   1.0  -0.0  -0.0   0.0  -0.0\n",
       " -0.0  -0.0   0.0  -0.0  -0.0   0.0   1.0  -0.0\n",
       "  1.0  -0.0  -0.0   0.0   0.0  -0.0  -0.0  -0.0\n",
       "  0.0   0.0   0.0   0.0   0.0   0.0   0.0   1.0\n",
       "  0.0   1.0   0.0   0.0   0.0   0.0   0.0   0.0\n",
       "  0.0   0.0   0.0   0.0   1.0   0.0   0.0   0.0\n",
       "  0.0   0.0   1.0   0.0   0.0   0.0   0.0   0.0"
      ]
     },
     "execution_count": 232,
     "metadata": {},
     "output_type": "execute_result"
    }
   ],
   "source": [
    "using JuMP, Gurobi\n",
    "\n",
    "m = Model(solver=GurobiSolver(OutputFlag=0))\n",
    "\n",
    "#for each queen, indicate their position on the board\n",
    "#1:row num, #2:column num\n",
    "@variable(m, z[1:8, 1:8], Bin)\n",
    "\n",
    "#each row has less or equal one queen\n",
    "for i in 1:8\n",
    "    @constraint(m, sum(z[i, j] for j in 1:8) <= 1)\n",
    "end\n",
    "\n",
    "#each column has less than or equal one queen\n",
    "for j in 1:8\n",
    "    @constraint(m, sum(z[i, j] for i in 1:8) <= 1)\n",
    "end\n",
    "\n",
    "#above and including the main diagonal\n",
    "for k in 0:6\n",
    "    @constraint(m, sum(z[i, i+k] for i in 1:8-k) <= 1)\n",
    "end\n",
    "\n",
    "#below the main diagonal\n",
    "for k in 1:6\n",
    "    @constraint(m, sum(z[i+k, i] for i in 1:8-k) <= 1)\n",
    "end\n",
    "\n",
    "#above and including the anti diagonal\n",
    "for k in 0:6\n",
    "    @constraint(m, sum(z[i, 8-k-i+1] for i in 1:8-k) <= 1)\n",
    "end\n",
    "\n",
    "#below the anti diagonal\n",
    "for k in 1:6\n",
    "    @constraint(m, sum(z[i, 9+k-i] for i in 1+k:8) <= 1)\n",
    "end\n",
    "\n",
    "#has to be exactly 8 queens\n",
    "@constraint(m, sum(z[i, j] for i in 1:8 for j in 1:8) == 8)\n",
    "                \n",
    "for i in 1:8\n",
    "    for j in 1:8\n",
    "        @constraint(m, z[i, j] == z[8-i+1, 8-j+1])\n",
    "    end\n",
    "end\n",
    "                \n",
    "status = solve(m)\n",
    "zzb = (getvalue(z))"
   ]
  },
  {
   "cell_type": "code",
   "execution_count": 233,
   "metadata": {},
   "outputs": [
    {
     "name": "stdout",
     "output_type": "stream",
     "text": [
      "\n",
      "| | | | | \u001b[30m|\u001b[39m\u001b[31mQ\u001b[39m| | \u001b[30m|\n",
      "\u001b[39m\n",
      "| | | \u001b[30m|\u001b[39m\u001b[31mQ\u001b[39m| | | | \u001b[30m|\n",
      "\u001b[39m\n",
      "| | | | | | \u001b[30m|\u001b[39m\u001b[31mQ\u001b[39m| \u001b[30m|\n",
      "\u001b[39m\n",
      "\u001b[30m|\u001b[39m\u001b[31mQ\u001b[39m| | | | | | | \u001b[30m|\n",
      "\u001b[39m\n",
      "| | | | | | | \u001b[30m|\u001b[39m\u001b[31mQ\u001b[39m\u001b[30m|\n",
      "\u001b[39m\n",
      "| \u001b[30m|\u001b[39m\u001b[31mQ\u001b[39m| | | | | | \u001b[30m|\n",
      "\u001b[39m\n",
      "| | | | \u001b[30m|\u001b[39m\u001b[31mQ\u001b[39m| | | \u001b[30m|\n",
      "\u001b[39m\n",
      "| | \u001b[30m|\u001b[39m\u001b[31mQ\u001b[39m| | | | | \u001b[30m|\n",
      "\u001b[39m\n"
     ]
    }
   ],
   "source": [
    "print_board(zzb)"
   ]
  },
  {
   "cell_type": "markdown",
   "metadata": {},
   "source": [
    "c.Each cell is threatened by at lease one queen"
   ]
  },
  {
   "cell_type": "code",
   "execution_count": 234,
   "metadata": {},
   "outputs": [
    {
     "data": {
      "text/plain": [
       "get_diagonal_sum (generic function with 1 method)"
      ]
     },
     "execution_count": 234,
     "metadata": {},
     "output_type": "execute_result"
    }
   ],
   "source": [
    "function get_diagonal_sum(i, j)\n",
    "    \n",
    "    k_diagonal = abs(j-i)\n",
    "    if j >= i\n",
    "        s_diagonal = sum(z[i, i+k_diagonal] for i in 1:8-k_diagonal)\n",
    "    else\n",
    "        s_diagonal = sum(z[i+k_diagonal, i] for i in 1:8-k_diagonal)\n",
    "    end\n",
    "    \n",
    "    k_anti_diagonal = i+j\n",
    "    if k_anti_diagonal <= 9\n",
    "        k_anti_diagonal = abs(k_anti_diagonal - 9)\n",
    "        s_anti_diagonal = sum(z[i, 9-k_anti_diagonal-i] \n",
    "            for i in 1:8-k_anti_diagonal)\n",
    "    else\n",
    "        k_anti_diagonal = k_anti_diagonal - 9\n",
    "        s_anti_diagonal = sum(z[i, 9+k_anti_diagonal-i] \n",
    "            for i in 1+k_anti_diagonal:8)\n",
    "    end\n",
    "    return s_diagonal, s_anti_diagonal\n",
    "end"
   ]
  },
  {
   "cell_type": "code",
   "execution_count": 235,
   "metadata": {},
   "outputs": [
    {
     "name": "stdout",
     "output_type": "stream",
     "text": [
      "Academic license - for non-commercial use only\n",
      "5.0\n"
     ]
    },
    {
     "data": {
      "text/plain": [
       "8×8 Array{Float64,2}:\n",
       " 0.0  0.0  0.0  0.0  0.0  0.0  0.0  0.0\n",
       " 0.0  1.0  0.0  0.0  0.0  0.0  0.0  0.0\n",
       " 0.0  0.0  0.0  0.0  0.0  0.0  0.0  0.0\n",
       " 0.0  0.0  0.0  0.0  0.0  0.0  1.0  0.0\n",
       " 0.0  0.0  0.0  0.0  0.0  0.0  0.0  0.0\n",
       " 1.0  0.0  0.0  0.0  0.0  0.0  0.0  0.0\n",
       " 0.0  0.0  0.0  0.0  1.0  0.0  0.0  0.0\n",
       " 1.0  0.0  0.0  0.0  0.0  0.0  0.0  0.0"
      ]
     },
     "execution_count": 235,
     "metadata": {},
     "output_type": "execute_result"
    }
   ],
   "source": [
    "using JuMP, Gurobi\n",
    "\n",
    "m = Model(solver=GurobiSolver(OutputFlag=0))\n",
    "\n",
    "#for each queen, indicate their position on the board\n",
    "#1:row num, #2:column num\n",
    "@variable(m, z[1:8, 1:8], Bin)\n",
    "\n",
    "for i in 1:8\n",
    "    for j in 1:8\n",
    "        s_diagonal, s_anti_diagonal = get_diagonal_sum(i, j)\n",
    "        total_sum = sum(z[i, k] for k in 1:8) + sum(z[l, j] for l in 1:8)  + \n",
    "        s_diagonal + s_anti_diagonal - 3*z[i, j]\n",
    "        @constraint(m, total_sum >= 1)\n",
    "    end\n",
    "end\n",
    "\n",
    "@objective(m, Min, sum(z))\n",
    "\n",
    "status = solve(m)\n",
    "println(getobjectivevalue(m))\n",
    "zzc = getvalue(z)"
   ]
  },
  {
   "cell_type": "code",
   "execution_count": 236,
   "metadata": {},
   "outputs": [
    {
     "name": "stdout",
     "output_type": "stream",
     "text": [
      "\n",
      "| | | | | | | | \u001b[30m|\n",
      "\u001b[39m\n",
      "| \u001b[30m|\u001b[39m\u001b[31mQ\u001b[39m| | | | | | \u001b[30m|\n",
      "\u001b[39m\n",
      "| | | | | | | | \u001b[30m|\n",
      "\u001b[39m\n",
      "| | | | | | \u001b[30m|\u001b[39m\u001b[31mQ\u001b[39m| \u001b[30m|\n",
      "\u001b[39m\n",
      "| | | | | | | | \u001b[30m|\n",
      "\u001b[39m\n",
      "\u001b[30m|\u001b[39m\u001b[31mQ\u001b[39m| | | | | | | \u001b[30m|\n",
      "\u001b[39m\n",
      "| | | | \u001b[30m|\u001b[39m\u001b[31mQ\u001b[39m| | | \u001b[30m|\n",
      "\u001b[39m\n",
      "\u001b[30m|\u001b[39m\u001b[31mQ\u001b[39m| | | | | | | \u001b[30m|\n",
      "\u001b[39m\n"
     ]
    }
   ],
   "source": [
    "print_board(zzc)"
   ]
  },
  {
   "cell_type": "markdown",
   "metadata": {},
   "source": [
    "We need 5 queens in order to threaten each cell at least once."
   ]
  },
  {
   "cell_type": "markdown",
   "metadata": {},
   "source": [
    "d.Each cell is threatened by at least one queen with point symmetry"
   ]
  },
  {
   "cell_type": "code",
   "execution_count": 237,
   "metadata": {},
   "outputs": [
    {
     "name": "stdout",
     "output_type": "stream",
     "text": [
      "Academic license - for non-commercial use only\n",
      "6.0\n"
     ]
    },
    {
     "data": {
      "text/plain": [
       "8×8 Array{Float64,2}:\n",
       " 0.0  0.0  0.0  0.0  0.0  0.0  0.0  0.0\n",
       " 0.0  1.0  0.0  0.0  0.0  0.0  0.0  0.0\n",
       " 0.0  0.0  0.0  0.0  0.0  1.0  0.0  0.0\n",
       " 0.0  0.0  0.0  1.0  0.0  0.0  0.0  0.0\n",
       " 0.0  0.0  0.0  0.0  1.0  0.0  0.0  0.0\n",
       " 0.0  0.0  1.0  0.0  0.0  0.0  0.0  0.0\n",
       " 0.0  0.0  0.0  0.0  0.0  0.0  1.0  0.0\n",
       " 0.0  0.0  0.0  0.0  0.0  0.0  0.0  0.0"
      ]
     },
     "execution_count": 237,
     "metadata": {},
     "output_type": "execute_result"
    }
   ],
   "source": [
    "using JuMP, Gurobi\n",
    "\n",
    "m = Model(solver=GurobiSolver(OutputFlag=0))\n",
    "\n",
    "#for each queen, indicate their position on the board\n",
    "#1:row num, #2:column num\n",
    "@variable(m, z[1:8, 1:8], Bin)\n",
    "\n",
    "for i in 1:8\n",
    "    for j in 1:8\n",
    "        s_diagonal, s_anti_diagonal = get_diagonal_sum(i, j)\n",
    "        total_sum = sum(z[i, k] for k in 1:8) + sum(z[l, j] for l in 1:8)  + \n",
    "        s_diagonal + s_anti_diagonal - 3*z[i, j]\n",
    "        @constraint(m, total_sum >= 1)\n",
    "    end\n",
    "end\n",
    "\n",
    "for i in 1:8\n",
    "    for j in 1:8\n",
    "        @constraint(m, z[i, j] == z[8-i+1, 8-j+1])\n",
    "    end\n",
    "end\n",
    "\n",
    "@objective(m, Min, sum(z))\n",
    "\n",
    "status = solve(m)\n",
    "println(getobjectivevalue(m))\n",
    "zzd = getvalue(z)"
   ]
  },
  {
   "cell_type": "code",
   "execution_count": 238,
   "metadata": {},
   "outputs": [
    {
     "name": "stdout",
     "output_type": "stream",
     "text": [
      "\n",
      "| | | | | | | | \u001b[30m|\n",
      "\u001b[39m\n",
      "| \u001b[30m|\u001b[39m\u001b[31mQ\u001b[39m| | | | | | \u001b[30m|\n",
      "\u001b[39m\n",
      "| | | | | \u001b[30m|\u001b[39m\u001b[31mQ\u001b[39m| | \u001b[30m|\n",
      "\u001b[39m\n",
      "| | | \u001b[30m|\u001b[39m\u001b[31mQ\u001b[39m| | | | \u001b[30m|\n",
      "\u001b[39m\n",
      "| | | | \u001b[30m|\u001b[39m\u001b[31mQ\u001b[39m| | | \u001b[30m|\n",
      "\u001b[39m\n",
      "| | \u001b[30m|\u001b[39m\u001b[31mQ\u001b[39m| | | | | \u001b[30m|\n",
      "\u001b[39m\n",
      "| | | | | | \u001b[30m|\u001b[39m\u001b[31mQ\u001b[39m| \u001b[30m|\n",
      "\u001b[39m\n",
      "| | | | | | | | \u001b[30m|\n",
      "\u001b[39m\n"
     ]
    }
   ],
   "source": [
    "print_board(zzd)"
   ]
  },
  {
   "cell_type": "markdown",
   "metadata": {},
   "source": [
    "We need 6 queens in this case. The minimum number of queens required changed from 5 to 6."
   ]
  },
  {
   "cell_type": "markdown",
   "metadata": {},
   "source": [
    "3.Paint production"
   ]
  },
  {
   "cell_type": "code",
   "execution_count": 239,
   "metadata": {},
   "outputs": [
    {
     "name": "stdout",
     "output_type": "stream",
     "text": [
      "Academic license - for non-commercial use only\n"
     ]
    },
    {
     "data": {
      "text/plain": [
       "5×5 Array{Float64,2}:\n",
       " -0.0  -0.0   0.0   1.0  -0.0\n",
       "  1.0  -0.0  -0.0  -0.0  -0.0\n",
       " -0.0   0.0  -0.0  -0.0   1.0\n",
       " -0.0  -0.0   1.0  -0.0   0.0\n",
       "  0.0   1.0  -0.0   0.0  -0.0"
      ]
     },
     "execution_count": 239,
     "metadata": {},
     "output_type": "execute_result"
    }
   ],
   "source": [
    "using JuMP, Gurobi, NamedArrays, Cbc\n",
    "\n",
    "A = [0 11 7 13 11\n",
    "     5 0 13 15 15\n",
    "     13 15 0 23 11\n",
    "     9 13 5 0 3\n",
    "     3 7 7 7 0]\n",
    "\n",
    "m = Model(solver=GurobiSolver(OutputFlag=0))\n",
    "\n",
    "# must formulate as IP this time\n",
    "@variable(m, x[1:5, 1:5], Bin)\n",
    "# one out-edge\n",
    "@constraint(m, c1[j in 1:5], sum(x[i,j] for i in 1:5) == 1)\n",
    "# one in-edge\n",
    "@constraint(m, c2[i in 1:5], sum(x[i,j] for j in 1:5) == 1)\n",
    "# no self-loops\n",
    "@constraint(m, c3[i in 1:5], x[i,i] == 0 )\n",
    "\n",
    "# MTZ variables and constraints\n",
    "@variable(m, 1 <= u[1:5] <= 5)\n",
    "@constraint(m, c4[i in 1:5, j in 2:5], u[i] - u[j] + N*x[i,j] <= 5-1 )\n",
    "\n",
    "# minimize total cost\n",
    "@objective(m, Min, sum(x .* A))\n",
    "\n",
    "status = solve(m)\n",
    "xx = getvalue(x)"
   ]
  },
  {
   "cell_type": "code",
   "execution_count": 240,
   "metadata": {},
   "outputs": [
    {
     "name": "stdout",
     "output_type": "stream",
     "text": [
      "The shortest possible cleaning time = 41.0min\n",
      "One possible optimal order of paint batches: \n",
      "1.0 => 4.0 => 3.0 => 5.0 => 2.0\n"
     ]
    }
   ],
   "source": [
    "n = 5\n",
    "println(\"The shortest possible cleaning time = \", getobjectivevalue(m), \"min\")\n",
    "println(\"One possible optimal order of paint batches: \")\n",
    "order = zeros(n)\n",
    "for i = 1:n\n",
    " index = Int8(round(getvalue(u[i])))\n",
    " order[index] = i\n",
    "end\n",
    "order_string = \"\"\n",
    "for i = 1:n\n",
    " if i == n\n",
    " order_string = string(order_string, order[i])\n",
    " else\n",
    " order_string = string(order_string, order[i], \" => \")\n",
    " end\n",
    "end\n",
    "println(order_string)"
   ]
  },
  {
   "cell_type": "markdown",
   "metadata": {},
   "source": [
    "Therefore, the corresponding order of the paint batches is 1 -> 4 -> 3 -> 5 -> 2, this will give us a total washing time of 41 minutes."
   ]
  },
  {
   "cell_type": "code",
   "execution_count": null,
   "metadata": {},
   "outputs": [],
   "source": []
  }
 ],
 "metadata": {
  "kernelspec": {
   "display_name": "Julia 0.6.2",
   "language": "julia",
   "name": "julia-0.6"
  },
  "language_info": {
   "file_extension": ".jl",
   "mimetype": "application/julia",
   "name": "julia",
   "version": "0.6.2"
  }
 },
 "nbformat": 4,
 "nbformat_minor": 2
}
