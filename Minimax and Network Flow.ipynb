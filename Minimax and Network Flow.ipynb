{
 "cells": [
  {
   "cell_type": "markdown",
   "metadata": {},
   "source": [
    "1.\n",
    "Doodle scheduling"
   ]
  },
  {
   "cell_type": "code",
   "execution_count": 55,
   "metadata": {
    "scrolled": true
   },
   "outputs": [
    {
     "name": "stdout",
     "output_type": "stream",
     "text": [
      "15×13 Named Array{Int64,2}\n",
      "name ╲ time │ 10:00  10:20  10:40  11:00  11:20  11:40  lunch   1:00   1:20   1:40   2:00   2:20   2:40\n",
      "────────────┼──────────────────────────────────────────────────────────────────────────────────────────\n",
      ":Manuel     │     0      0      1      0      0      0      0      0      0      0      0      0      0\n",
      ":Luca       │     0      0      0      0      0      0      0      0      0      1      0      0      0\n",
      ":Jule       │     0      0      0      1      0      0      0      0      0      0      0      0      0\n",
      ":Michael    │     0      0      0      0      0      0      1      0      0      0      0      0      0\n",
      ":Malte      │     0      0      0      0      0      0      1      0      0      0      0      0      0\n",
      ":Chris      │     0      0      0      0      0      0      0      0      1      0      0      0      0\n",
      ":Spyros     │     0      0      0      0      0      1      0      0      0      0      0      0      0\n",
      ":Mirjam     │     0      0      0      0      0      0      0      0      0      0      0      1      0\n",
      ":Matt       │     0      0      0      0      0      0      0      0      0      0      1      0      0\n",
      ":Florian    │     0      0      0      0      0      0      0      1      0      0      0      0      0\n",
      ":Josep      │     0      0      0      0      0      0      1      0      0      0      0      0      0\n",
      ":Joel       │     0      0      0      0      0      0      0      0      0      0      0      0      1\n",
      ":Tom        │     0      0      0      0      1      0      0      0      0      0      0      0      0\n",
      ":Daniel     │     0      1      0      0      0      0      0      0      0      0      0      0      0\n",
      ":Anne       │     1      0      0      0      0      0      0      0      0      0      0      0      0"
     ]
    }
   ],
   "source": [
    "using JuMP, NamedArrays, Clp\n",
    "\n",
    "availability =\n",
    "  [ 0 0 1 1 0 0 0 1 1 0 0 0 0\n",
    "    0 1 1 0 0 0 0 0 1 1 0 0 0\n",
    "    0 0 0 1 1 0 1 1 0 1 1 1 1\n",
    "    0 0 0 1 1 1 1 1 1 1 1 1 0\n",
    "    0 0 0 0 0 0 1 1 1 0 0 0 0\n",
    "    0 1 1 0 0 0 0 0 1 1 0 0 0\n",
    "    0 0 0 1 1 1 1 0 0 0 0 0 0\n",
    "    1 1 0 0 0 0 0 0 0 0 1 1 1\n",
    "    1 1 1 0 0 0 0 0 0 1 1 0 0\n",
    "    0 0 0 0 0 0 0 1 1 0 0 0 0\n",
    "    0 0 0 0 0 0 1 1 1 0 0 0 0\n",
    "    1 1 0 0 0 1 1 1 1 0 0 1 1\n",
    "    1 1 1 0 1 1 0 0 0 0 0 1 1\n",
    "    0 1 1 1 0 0 0 0 0 0 0 0 0\n",
    "    1 1 0 0 1 1 0 0 0 0 0 0 0 ]\n",
    "\n",
    "TIMES = [\"10:00\",\"10:20\",\"10:40\",\"11:00\",\"11:20\",\"11:40\",\"lunch\",\"1:00\",\"1:20\",\"1:40\",\"2:00\",\"2:20\",\"2:40\"]\n",
    "NAMES = [:Manuel,:Luca,:Jule,:Michael,:Malte,:Chris,:Spyros,:Mirjam,:Matt,:Florian,:Josep,:Joel,:Tom,:Daniel,:Anne ]\n",
    "times = NamedArray( availability, (NAMES,TIMES), (\"NAME\",\"TIME\"))\n",
    "demand = Dict(zip( TIMES, [1 1 1 1 1 1 3 1 1 1 1 1 1] ))\n",
    "\n",
    "m = Model(solver = ClpSolver())\n",
    "\n",
    "@variable(m, x[NAMES,TIMES] >= 0)\n",
    "\n",
    "# each person has to attend exactly one meeting\n",
    "@constraint(m, a[i in NAMES], sum(x[i,j] for j in TIMES) == 1 )\n",
    "\n",
    "# each time slot has to have one person\n",
    "@constraint(m,  dem[j in TIMES], sum(x[i,j] * times[i, j] for i in NAMES) == demand[j])\n",
    "\n",
    "@objective(m, Min, 0)\n",
    "\n",
    "solve(m)\n",
    "solution = NamedArray( Int[getvalue(x[i,j]) for i in NAMES, j in TIMES], (NAMES,TIMES), (\"name\",\"time\") )\n",
    "show(IOContext(STDOUT, limit=false), \"text/plain\", solution)"
   ]
  },
  {
   "cell_type": "markdown",
   "metadata": {},
   "source": [
    "Therefore, we have the following schdule:\n",
    "\n",
    "\n",
    "10:00 : Anne\n",
    "\n",
    "\n",
    "10:20 : Daniel\n",
    "\n",
    "\n",
    "10:40 : Manuel\n",
    "\n",
    "\n",
    "11:00 : Jule\n",
    "\n",
    "\n",
    "11:20 : Tom\n",
    "\n",
    "\n",
    "11:40 : Spyros\n",
    "\n",
    "\n",
    "Lunch : Michael, Malte, Josep\n",
    "\n",
    "\n",
    "1:00 : Florian\n",
    "\n",
    "\n",
    "1:20 : Chris\n",
    "\n",
    "\n",
    "1:40 : Luca\n",
    "\n",
    "\n",
    "2:00 : Matt\n",
    "\n",
    "\n",
    "2:20 : Mirjam\n",
    "\n",
    "\n",
    "2:40 : Joel"
   ]
  },
  {
   "cell_type": "markdown",
   "metadata": {},
   "source": [
    "2.\n",
    "Car rental"
   ]
  },
  {
   "cell_type": "code",
   "execution_count": 56,
   "metadata": {
    "scrolled": true
   },
   "outputs": [
    {
     "name": "stdout",
     "output_type": "stream",
     "text": [
      "\n",
      "Optimal\n",
      "10×10 Named Array{Int64,2}\n",
      "agency out ╲ agency in │  1   2   3   4   5   6   7   8   9  10\n",
      "───────────────────────┼───────────────────────────────────────\n",
      "1                      │  0   0   0   0   0   0   0   0   0   0\n",
      "2                      │  0   0   1   0   0   5   1   0   0   0\n",
      "3                      │  0   0   0   0   0   0   0   0   0   0\n",
      "4                      │  0   0   0   0   0   0   0   0   0   0\n",
      "5                      │  0   0   0   3   0   0   0   0   0   0\n",
      "6                      │  0   0   0   0   0   0   0   0   0   0\n",
      "7                      │  0   0   0   0   0   0   0   0   0   0\n",
      "8                      │  0   0   0   0   0   0   0   0   0   5\n",
      "9                      │  2   0   3   0   0   0   0   1   0   0\n",
      "10                     │  0   0   0   0   0   0   0   0   0   0\n",
      "\n",
      "The optimal cost will be: $152.63901632295628\n"
     ]
    }
   ],
   "source": [
    "using JuMP, NamedArrays, Clp\n",
    "\n",
    "agency = [:1, :2, :3, :4, :5, :6, :7, :8, :9, :10]\n",
    "x_cord = Dict(zip(agency, [0 20 18 30 35 33 5 5 11 2] ))\n",
    "y_cord = Dict(zip(agency, [0 20 10 12 0 25 27 10 0 15] ))\n",
    "demand = Dict(zip(agency, [10 6 8 11 9 7 15 7 9 12] ))\n",
    "stock = Dict(zip(agency, [8 13 4 8 12 2 14 11 15 7]))\n",
    "\n",
    "dist = [sqrt((x_cord[i] - x_cord[j])^2 + (y_cord[i] - y_cord[j])^2) for i in agency, j in agency]\n",
    "distance = NamedArray( dist, (agency,agency), (\"agency\",\"agency\"))\n",
    "#show(IOContext(STDOUT, limit=false), \"text/plain\", distance)\n",
    "\n",
    "m = Model(solver = ClpSolver())\n",
    "\n",
    "# the solution array for transportation between agencies\n",
    "@variable(m, transport[agency,agency] >= 0)\n",
    "\n",
    "# number of cars inported + number of cars in stock - number of cars deported >= demand\n",
    "@constraint(m, a[i in agency], sum((transport[j, i] - transport[i, j]) for j in agency) + stock[i] >= demand[i])\n",
    "\n",
    "# total cost of the transportation\n",
    "@expression(m, cost,sum(transport[i, j]*distance[i, j]*0.5*1.3 for i in agency, j in agency))\n",
    "@objective(m, Min, cost)\n",
    "\n",
    "status = solve(m)\n",
    "println()\n",
    "println(status)\n",
    "solution = NamedArray( Int[getvalue(transport[i,j]) for i in agency, j in agency], (agency,agency), (\"agency out\",\"agency in\") )\n",
    "show(IOContext(STDOUT, limit=false), \"text/plain\", solution)\n",
    "println()\n",
    "println()\n",
    "println(\"The optimal cost will be: \\$\", getvalue(cost))\n",
    "#show(IOContext(STDOUT, limit=false), \"text/plain\", distance)"
   ]
  },
  {
   "cell_type": "markdown",
   "metadata": {},
   "source": [
    "According to the table, we know that:\n",
    "\n",
    "\n",
    "\n",
    "We need to move 1 car from 2 to 3;\n",
    "\n",
    "\n",
    "we need to move 5 cars from 2 to 6;\n",
    "\n",
    "\n",
    "we need to move 1 car from 2 to 7;\n",
    "\n",
    "\n",
    "we need to move 3 cars from 5 to 4;\n",
    "\n",
    "\n",
    "we need to move 5 cars from 8 to 10;\n",
    "\n",
    "\n",
    "we need to move 2 cars from 9 to 1;\n",
    "\n",
    "\n",
    "we need to move 3 cars from 9 to 3;\n",
    "\n",
    "\n",
    "we need to move 1 car from 9 to 8."
   ]
  },
  {
   "cell_type": "markdown",
   "metadata": {},
   "source": [
    "3.Building a stadium\n",
    "\n",
    "\n",
    "(a)."
   ]
  },
  {
   "cell_type": "code",
   "execution_count": 57,
   "metadata": {},
   "outputs": [
    {
     "name": "stdout",
     "output_type": "stream",
     "text": [
      "Optimal\n",
      "The earliest possible date of completion for the construction is : 64.0\n"
     ]
    }
   ],
   "source": [
    "using JuMP, Clp\n",
    "\n",
    "tasks = 1:18\n",
    "durations = [2 16 9 8 10 6 2 2 9 5 3 2 1 7 4 3 9 1]\n",
    "predecessors = ( [], [1], [2], [2], [3], [4,5], [4], [6], [4,6], [4], [6], [9], [7], [2], [4,14], [8,11,14], [12], [17] )\n",
    "pred_dict = Dict(zip(tasks,predecessors));   # dictionary mapping tasks --> predecessors.\n",
    "\n",
    "# additional columns of data (maximum reduction possible )\n",
    "max_reduction =  [0,  3,  1,  2,  2,  1, 1, 0,  2,  1,  1, 0, 0,  2,  2, 1,  3, 0]  # max reduction (in weeks)\n",
    "cost_reduction = [0, 30, 26, 12, 17, 15, 8, 0, 42, 21, 18, 0, 0, 22, 12, 6, 16, 0]  # cost of reduction ($1,000/week)\n",
    "bonus_amount = 30     # bonus for expediting the project ($1,000/week )\n",
    ";\n",
    "duration = Dict(zip(tasks, durations))\n",
    "\n",
    "m = Model(solver = ClpSolver())\n",
    "\n",
    "# tstart is the start time for each task\n",
    "@variable(m, tstart[tasks])\n",
    "\n",
    "@constraint(m, link[i in tasks, j in pred_dict[i]], tstart[i] >= tstart[j] + duration[j])\n",
    "@constraint(m, tstart[:1] == 0)\n",
    "@objective(m, Min, tstart[:18] + duration[:18])\n",
    "\n",
    "status = solve(m)\n",
    "println(status)\n",
    "println(\"The earliest possible date of completion for the construction is : \", getvalue(tstart[:18] + duration[:18]))"
   ]
  },
  {
   "cell_type": "markdown",
   "metadata": {},
   "source": [
    "Therefore the earliest possible time of completion for the construction is 64 weeks."
   ]
  },
  {
   "cell_type": "markdown",
   "metadata": {},
   "source": [
    "(b)."
   ]
  },
  {
   "cell_type": "code",
   "execution_count": 58,
   "metadata": {},
   "outputs": [
    {
     "name": "stdout",
     "output_type": "stream",
     "text": [
      "Optimal\n",
      "\n",
      "The reduced time for completion is : 54.0\n",
      "The profit is : 242.0\n"
     ]
    }
   ],
   "source": [
    "using JuMP, Clp\n",
    "\n",
    "tasks = 1:18\n",
    "durations = [2 16 9 8 10 6 2 2 9 5 3 2 1 7 4 3 9 1]\n",
    "predecessors = ( [], [1], [2], [2], [3], [4,5], [4], [6], [4,6], [4], [6], [9], [7], [2], [4,14], [8,11,14], [12], [17] )\n",
    "pred_dict = Dict(zip(tasks,predecessors));   # dictionary mapping tasks --> predecessors.\n",
    "\n",
    "# additional columns of data (maximum reduction possible )\n",
    "max_reduction =  [0,  3,  1,  2,  2,  1, 1, 0,  2,  1,  1, 0, 0,  2,  2, 1,  3, 0]  # max reduction (in weeks)\n",
    "cost_reduction = [0, 30, 26, 12, 17, 15, 8, 0, 42, 21, 18, 0, 0, 22, 12, 6, 16, 0]  # cost of reduction ($1,000/week)\n",
    "bonus_amount = 30     # bonus for expediting the project ($1,000/week )\n",
    ";\n",
    "\n",
    "duration = Dict(zip(tasks, durations))\n",
    "\n",
    "max_reduct = [0, 3, 1, 2, 2, 1, 1, 0, 2, 1, 1, 0, 0, 2, 2, 1, 3, 0]\n",
    "cost_reduct = [0, 30, 26, 12, 17, 15, 8, 0, 42, 21, 18, 0, 0, 22, 12, 6, 16, 0]\n",
    "\n",
    "max_reduction = Dict(zip(tasks, max_reduct))\n",
    "reduction_cost = Dict(zip(tasks, cost_reduct))\n",
    "\n",
    "m = Model(solver = ClpSolver())\n",
    "\n",
    "# the start time of each task\n",
    "@variable(m, tstart[tasks])\n",
    "\n",
    "# the time to reduce for each task\n",
    "@variable(m, reduction_time[tasks])\n",
    "\n",
    "# constraint for reduction time\n",
    "@constraint(m, a[i in tasks], 0 <= reduction_time[i] <= max_reduction[i])\n",
    "\n",
    "# start time of a task >= start time of the predecessor + duration of the predecessor - reduced time of the predecessor\n",
    "@constraint(m, link[i in tasks, j in pred_dict[i]], tstart[i] >= tstart[j] + duration[j] - reduction_time[j])\n",
    "\n",
    "@constraint(m, tstart[:1] == 0)\n",
    "\n",
    "@expression(m, net_profit, sum(reduction_time[j] for j in tasks)*30 - sum(reduction_time[i]*reduction_cost[i] for i in tasks) )\n",
    "\n",
    "@objective(m, Max, net_profit)\n",
    "status = solve(m)\n",
    "println(status)\n",
    "println()\n",
    "println(\"The reduced time for completion is : \",getvalue(tstart[:18] + duration[:18]))\n",
    "println(\"The profit is : \", getvalue(net_profit))"
   ]
  },
  {
   "cell_type": "markdown",
   "metadata": {},
   "source": [
    "Therefore, the reduced time for completion is 54 weeks, this yields a profit of 242K$."
   ]
  },
  {
   "cell_type": "markdown",
   "metadata": {},
   "source": [
    "4.\n",
    "\n",
    "Museum site planning"
   ]
  },
  {
   "cell_type": "code",
   "execution_count": 59,
   "metadata": {},
   "outputs": [
    {
     "data": {
      "image/png": "[encoded data removed]",
      "text/plain": [
       "PyPlot.Figure(PyObject <matplotlib.figure.Figure object at 0x13f9cb7d0>)"
      ]
     },
     "metadata": {},
     "output_type": "display_data"
    },
    {
     "name": "stdout",
     "output_type": "stream",
     "text": [
      "Optimal\n",
      "The coordinates of the center are : [244.029, 244.029]\n",
      "The optimal radius is : 194.02852679380183\n"
     ]
    }
   ],
   "source": [
    "A = [0 1; -1 0; 0 -1; 1 3/2; 1 -1/3]\n",
    "b = [500; 0; 0; 1050; 500]\n",
    "\n",
    "using JuMP, Clp, PyPlot, PyCall\n",
    "\n",
    "m = Model(solver=ClpSolver())\n",
    "\n",
    "@variable(m, r >= 0)\n",
    "@variable(m, x[1:2])\n",
    "\n",
    "for i = 1:size(A,1)\n",
    "    @constraint(m, A[i,:]'*x + (r+50)*norm(A[i,:]) <= b[i])\n",
    "end\n",
    "\n",
    "@objective(m, Max, r)\n",
    "\n",
    "status = solve(m)\n",
    "println(status)\n",
    "println(\"The coordinates of the center are : \", getvalue(x))\n",
    "println(\"The optimal radius is : \", getvalue(r))\n",
    "\n",
    "@pyimport matplotlib.patches as patches\n",
    "fig, ax = plt[:subplots]()\n",
    "xlim(-80, 650)\n",
    "ylim(-80, 550)\n",
    "poly = patches.Polygon([0 500; 300 500; 600 300; 500 0; 0 0], closed=true, fill=false, color=\"b\")\n",
    "ax[:add_artist](poly)\n",
    "circle = patches.Circle([244.029, 244.029], 194.02852679380183, color = \"b\")\n",
    "ax[:add_artist](circle)\n",
    "show()"
   ]
  },
  {
   "cell_type": "markdown",
   "metadata": {},
   "source": [
    "Therefore, the best way to put this circle shaped museum is to put its center at coordinates [244.029, 244.029]\n",
    "\n",
    "\n",
    "with optimal radius r = 194.02852679380183"
   ]
  }
 ],
 "metadata": {
  "kernelspec": {
   "display_name": "Julia 0.6.2",
   "language": "julia",
   "name": "julia-0.6"
  },
  "language_info": {
   "file_extension": ".jl",
   "mimetype": "application/julia",
   "name": "julia",
   "version": "0.6.2"
  }
 },
 "nbformat": 4,
 "nbformat_minor": 2
}
